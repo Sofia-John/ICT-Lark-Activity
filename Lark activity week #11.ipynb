{
 "cells": [
  {
   "cell_type": "code",
   "execution_count": 1,
   "id": "248d3b24",
   "metadata": {},
   "outputs": [],
   "source": [
    "# Importing necessary libraries\n",
    "import numpy as np\n",
    "import pandas as pd\n",
    "import matplotlib.pyplot as plt\n",
    "import seaborn as sns"
   ]
  },
  {
   "cell_type": "code",
   "execution_count": 2,
   "id": "51259f98",
   "metadata": {},
   "outputs": [
    {
     "data": {
      "text/html": [
       "<div>\n",
       "<style scoped>\n",
       "    .dataframe tbody tr th:only-of-type {\n",
       "        vertical-align: middle;\n",
       "    }\n",
       "\n",
       "    .dataframe tbody tr th {\n",
       "        vertical-align: top;\n",
       "    }\n",
       "\n",
       "    .dataframe thead th {\n",
       "        text-align: right;\n",
       "    }\n",
       "</style>\n",
       "<table border=\"1\" class=\"dataframe\">\n",
       "  <thead>\n",
       "    <tr style=\"text-align: right;\">\n",
       "      <th></th>\n",
       "      <th>school</th>\n",
       "      <th>sex</th>\n",
       "      <th>age</th>\n",
       "      <th>address</th>\n",
       "      <th>famsize</th>\n",
       "      <th>Pstatus</th>\n",
       "      <th>Medu</th>\n",
       "      <th>Fedu</th>\n",
       "      <th>Mjob</th>\n",
       "      <th>Fjob</th>\n",
       "      <th>...</th>\n",
       "      <th>internet</th>\n",
       "      <th>romantic</th>\n",
       "      <th>famrel</th>\n",
       "      <th>freetime</th>\n",
       "      <th>goout</th>\n",
       "      <th>Dalc</th>\n",
       "      <th>Walc</th>\n",
       "      <th>health</th>\n",
       "      <th>absences</th>\n",
       "      <th>passed</th>\n",
       "    </tr>\n",
       "  </thead>\n",
       "  <tbody>\n",
       "    <tr>\n",
       "      <th>0</th>\n",
       "      <td>GP</td>\n",
       "      <td>F</td>\n",
       "      <td>18</td>\n",
       "      <td>U</td>\n",
       "      <td>GT3</td>\n",
       "      <td>A</td>\n",
       "      <td>4</td>\n",
       "      <td>4</td>\n",
       "      <td>at_home</td>\n",
       "      <td>teacher</td>\n",
       "      <td>...</td>\n",
       "      <td>no</td>\n",
       "      <td>no</td>\n",
       "      <td>4</td>\n",
       "      <td>3</td>\n",
       "      <td>4</td>\n",
       "      <td>1</td>\n",
       "      <td>1</td>\n",
       "      <td>3</td>\n",
       "      <td>6</td>\n",
       "      <td>no</td>\n",
       "    </tr>\n",
       "    <tr>\n",
       "      <th>1</th>\n",
       "      <td>GP</td>\n",
       "      <td>F</td>\n",
       "      <td>17</td>\n",
       "      <td>U</td>\n",
       "      <td>GT3</td>\n",
       "      <td>T</td>\n",
       "      <td>1</td>\n",
       "      <td>1</td>\n",
       "      <td>at_home</td>\n",
       "      <td>other</td>\n",
       "      <td>...</td>\n",
       "      <td>yes</td>\n",
       "      <td>no</td>\n",
       "      <td>5</td>\n",
       "      <td>3</td>\n",
       "      <td>3</td>\n",
       "      <td>1</td>\n",
       "      <td>1</td>\n",
       "      <td>3</td>\n",
       "      <td>4</td>\n",
       "      <td>no</td>\n",
       "    </tr>\n",
       "    <tr>\n",
       "      <th>2</th>\n",
       "      <td>GP</td>\n",
       "      <td>F</td>\n",
       "      <td>15</td>\n",
       "      <td>U</td>\n",
       "      <td>LE3</td>\n",
       "      <td>T</td>\n",
       "      <td>1</td>\n",
       "      <td>1</td>\n",
       "      <td>at_home</td>\n",
       "      <td>other</td>\n",
       "      <td>...</td>\n",
       "      <td>yes</td>\n",
       "      <td>no</td>\n",
       "      <td>4</td>\n",
       "      <td>3</td>\n",
       "      <td>2</td>\n",
       "      <td>2</td>\n",
       "      <td>3</td>\n",
       "      <td>3</td>\n",
       "      <td>10</td>\n",
       "      <td>yes</td>\n",
       "    </tr>\n",
       "    <tr>\n",
       "      <th>3</th>\n",
       "      <td>GP</td>\n",
       "      <td>F</td>\n",
       "      <td>15</td>\n",
       "      <td>U</td>\n",
       "      <td>GT3</td>\n",
       "      <td>T</td>\n",
       "      <td>4</td>\n",
       "      <td>2</td>\n",
       "      <td>health</td>\n",
       "      <td>services</td>\n",
       "      <td>...</td>\n",
       "      <td>yes</td>\n",
       "      <td>yes</td>\n",
       "      <td>3</td>\n",
       "      <td>2</td>\n",
       "      <td>2</td>\n",
       "      <td>1</td>\n",
       "      <td>1</td>\n",
       "      <td>5</td>\n",
       "      <td>2</td>\n",
       "      <td>yes</td>\n",
       "    </tr>\n",
       "    <tr>\n",
       "      <th>4</th>\n",
       "      <td>GP</td>\n",
       "      <td>F</td>\n",
       "      <td>16</td>\n",
       "      <td>U</td>\n",
       "      <td>GT3</td>\n",
       "      <td>T</td>\n",
       "      <td>3</td>\n",
       "      <td>3</td>\n",
       "      <td>other</td>\n",
       "      <td>other</td>\n",
       "      <td>...</td>\n",
       "      <td>no</td>\n",
       "      <td>no</td>\n",
       "      <td>4</td>\n",
       "      <td>3</td>\n",
       "      <td>2</td>\n",
       "      <td>1</td>\n",
       "      <td>2</td>\n",
       "      <td>5</td>\n",
       "      <td>4</td>\n",
       "      <td>yes</td>\n",
       "    </tr>\n",
       "    <tr>\n",
       "      <th>...</th>\n",
       "      <td>...</td>\n",
       "      <td>...</td>\n",
       "      <td>...</td>\n",
       "      <td>...</td>\n",
       "      <td>...</td>\n",
       "      <td>...</td>\n",
       "      <td>...</td>\n",
       "      <td>...</td>\n",
       "      <td>...</td>\n",
       "      <td>...</td>\n",
       "      <td>...</td>\n",
       "      <td>...</td>\n",
       "      <td>...</td>\n",
       "      <td>...</td>\n",
       "      <td>...</td>\n",
       "      <td>...</td>\n",
       "      <td>...</td>\n",
       "      <td>...</td>\n",
       "      <td>...</td>\n",
       "      <td>...</td>\n",
       "      <td>...</td>\n",
       "    </tr>\n",
       "    <tr>\n",
       "      <th>390</th>\n",
       "      <td>MS</td>\n",
       "      <td>M</td>\n",
       "      <td>20</td>\n",
       "      <td>U</td>\n",
       "      <td>LE3</td>\n",
       "      <td>A</td>\n",
       "      <td>2</td>\n",
       "      <td>2</td>\n",
       "      <td>services</td>\n",
       "      <td>services</td>\n",
       "      <td>...</td>\n",
       "      <td>no</td>\n",
       "      <td>no</td>\n",
       "      <td>5</td>\n",
       "      <td>5</td>\n",
       "      <td>4</td>\n",
       "      <td>4</td>\n",
       "      <td>5</td>\n",
       "      <td>4</td>\n",
       "      <td>11</td>\n",
       "      <td>no</td>\n",
       "    </tr>\n",
       "    <tr>\n",
       "      <th>391</th>\n",
       "      <td>MS</td>\n",
       "      <td>M</td>\n",
       "      <td>17</td>\n",
       "      <td>U</td>\n",
       "      <td>LE3</td>\n",
       "      <td>T</td>\n",
       "      <td>3</td>\n",
       "      <td>1</td>\n",
       "      <td>services</td>\n",
       "      <td>services</td>\n",
       "      <td>...</td>\n",
       "      <td>yes</td>\n",
       "      <td>no</td>\n",
       "      <td>2</td>\n",
       "      <td>4</td>\n",
       "      <td>5</td>\n",
       "      <td>3</td>\n",
       "      <td>4</td>\n",
       "      <td>2</td>\n",
       "      <td>3</td>\n",
       "      <td>yes</td>\n",
       "    </tr>\n",
       "    <tr>\n",
       "      <th>392</th>\n",
       "      <td>MS</td>\n",
       "      <td>M</td>\n",
       "      <td>21</td>\n",
       "      <td>R</td>\n",
       "      <td>GT3</td>\n",
       "      <td>T</td>\n",
       "      <td>1</td>\n",
       "      <td>1</td>\n",
       "      <td>other</td>\n",
       "      <td>other</td>\n",
       "      <td>...</td>\n",
       "      <td>no</td>\n",
       "      <td>no</td>\n",
       "      <td>5</td>\n",
       "      <td>5</td>\n",
       "      <td>3</td>\n",
       "      <td>3</td>\n",
       "      <td>3</td>\n",
       "      <td>3</td>\n",
       "      <td>3</td>\n",
       "      <td>no</td>\n",
       "    </tr>\n",
       "    <tr>\n",
       "      <th>393</th>\n",
       "      <td>MS</td>\n",
       "      <td>M</td>\n",
       "      <td>18</td>\n",
       "      <td>R</td>\n",
       "      <td>LE3</td>\n",
       "      <td>T</td>\n",
       "      <td>3</td>\n",
       "      <td>2</td>\n",
       "      <td>services</td>\n",
       "      <td>other</td>\n",
       "      <td>...</td>\n",
       "      <td>yes</td>\n",
       "      <td>no</td>\n",
       "      <td>4</td>\n",
       "      <td>4</td>\n",
       "      <td>1</td>\n",
       "      <td>3</td>\n",
       "      <td>4</td>\n",
       "      <td>5</td>\n",
       "      <td>0</td>\n",
       "      <td>yes</td>\n",
       "    </tr>\n",
       "    <tr>\n",
       "      <th>394</th>\n",
       "      <td>MS</td>\n",
       "      <td>M</td>\n",
       "      <td>19</td>\n",
       "      <td>U</td>\n",
       "      <td>LE3</td>\n",
       "      <td>T</td>\n",
       "      <td>1</td>\n",
       "      <td>1</td>\n",
       "      <td>other</td>\n",
       "      <td>at_home</td>\n",
       "      <td>...</td>\n",
       "      <td>yes</td>\n",
       "      <td>no</td>\n",
       "      <td>3</td>\n",
       "      <td>2</td>\n",
       "      <td>3</td>\n",
       "      <td>3</td>\n",
       "      <td>3</td>\n",
       "      <td>5</td>\n",
       "      <td>5</td>\n",
       "      <td>no</td>\n",
       "    </tr>\n",
       "  </tbody>\n",
       "</table>\n",
       "<p>395 rows × 31 columns</p>\n",
       "</div>"
      ],
      "text/plain": [
       "    school sex  age address famsize Pstatus  Medu  Fedu      Mjob      Fjob  \\\n",
       "0       GP   F   18       U     GT3       A     4     4   at_home   teacher   \n",
       "1       GP   F   17       U     GT3       T     1     1   at_home     other   \n",
       "2       GP   F   15       U     LE3       T     1     1   at_home     other   \n",
       "3       GP   F   15       U     GT3       T     4     2    health  services   \n",
       "4       GP   F   16       U     GT3       T     3     3     other     other   \n",
       "..     ...  ..  ...     ...     ...     ...   ...   ...       ...       ...   \n",
       "390     MS   M   20       U     LE3       A     2     2  services  services   \n",
       "391     MS   M   17       U     LE3       T     3     1  services  services   \n",
       "392     MS   M   21       R     GT3       T     1     1     other     other   \n",
       "393     MS   M   18       R     LE3       T     3     2  services     other   \n",
       "394     MS   M   19       U     LE3       T     1     1     other   at_home   \n",
       "\n",
       "     ... internet romantic  famrel  freetime  goout Dalc Walc health absences  \\\n",
       "0    ...       no       no       4         3      4    1    1      3        6   \n",
       "1    ...      yes       no       5         3      3    1    1      3        4   \n",
       "2    ...      yes       no       4         3      2    2    3      3       10   \n",
       "3    ...      yes      yes       3         2      2    1    1      5        2   \n",
       "4    ...       no       no       4         3      2    1    2      5        4   \n",
       "..   ...      ...      ...     ...       ...    ...  ...  ...    ...      ...   \n",
       "390  ...       no       no       5         5      4    4    5      4       11   \n",
       "391  ...      yes       no       2         4      5    3    4      2        3   \n",
       "392  ...       no       no       5         5      3    3    3      3        3   \n",
       "393  ...      yes       no       4         4      1    3    4      5        0   \n",
       "394  ...      yes       no       3         2      3    3    3      5        5   \n",
       "\n",
       "    passed  \n",
       "0       no  \n",
       "1       no  \n",
       "2      yes  \n",
       "3      yes  \n",
       "4      yes  \n",
       "..     ...  \n",
       "390     no  \n",
       "391    yes  \n",
       "392     no  \n",
       "393    yes  \n",
       "394     no  \n",
       "\n",
       "[395 rows x 31 columns]"
      ]
     },
     "execution_count": 2,
     "metadata": {},
     "output_type": "execute_result"
    }
   ],
   "source": [
    "# Dataset\n",
    "data=pd.read_csv('student-data.csv')\n",
    "data"
   ]
  },
  {
   "cell_type": "code",
   "execution_count": 3,
   "id": "347a3135",
   "metadata": {},
   "outputs": [
    {
     "name": "stdout",
     "output_type": "stream",
     "text": [
      "<class 'pandas.core.frame.DataFrame'>\n",
      "RangeIndex: 395 entries, 0 to 394\n",
      "Data columns (total 31 columns):\n",
      " #   Column      Non-Null Count  Dtype \n",
      "---  ------      --------------  ----- \n",
      " 0   school      395 non-null    object\n",
      " 1   sex         395 non-null    object\n",
      " 2   age         395 non-null    int64 \n",
      " 3   address     395 non-null    object\n",
      " 4   famsize     395 non-null    object\n",
      " 5   Pstatus     395 non-null    object\n",
      " 6   Medu        395 non-null    int64 \n",
      " 7   Fedu        395 non-null    int64 \n",
      " 8   Mjob        395 non-null    object\n",
      " 9   Fjob        395 non-null    object\n",
      " 10  reason      395 non-null    object\n",
      " 11  guardian    395 non-null    object\n",
      " 12  traveltime  395 non-null    int64 \n",
      " 13  studytime   395 non-null    int64 \n",
      " 14  failures    395 non-null    int64 \n",
      " 15  schoolsup   395 non-null    object\n",
      " 16  famsup      395 non-null    object\n",
      " 17  paid        395 non-null    object\n",
      " 18  activities  395 non-null    object\n",
      " 19  nursery     395 non-null    object\n",
      " 20  higher      395 non-null    object\n",
      " 21  internet    395 non-null    object\n",
      " 22  romantic    395 non-null    object\n",
      " 23  famrel      395 non-null    int64 \n",
      " 24  freetime    395 non-null    int64 \n",
      " 25  goout       395 non-null    int64 \n",
      " 26  Dalc        395 non-null    int64 \n",
      " 27  Walc        395 non-null    int64 \n",
      " 28  health      395 non-null    int64 \n",
      " 29  absences    395 non-null    int64 \n",
      " 30  passed      395 non-null    object\n",
      "dtypes: int64(13), object(18)\n",
      "memory usage: 95.8+ KB\n"
     ]
    }
   ],
   "source": [
    "data.info()"
   ]
  },
  {
   "cell_type": "code",
   "execution_count": 4,
   "id": "c83988db",
   "metadata": {},
   "outputs": [
    {
     "data": {
      "text/plain": [
       "school        0\n",
       "sex           0\n",
       "age           0\n",
       "address       0\n",
       "famsize       0\n",
       "Pstatus       0\n",
       "Medu          0\n",
       "Fedu          0\n",
       "Mjob          0\n",
       "Fjob          0\n",
       "reason        0\n",
       "guardian      0\n",
       "traveltime    0\n",
       "studytime     0\n",
       "failures      0\n",
       "schoolsup     0\n",
       "famsup        0\n",
       "paid          0\n",
       "activities    0\n",
       "nursery       0\n",
       "higher        0\n",
       "internet      0\n",
       "romantic      0\n",
       "famrel        0\n",
       "freetime      0\n",
       "goout         0\n",
       "Dalc          0\n",
       "Walc          0\n",
       "health        0\n",
       "absences      0\n",
       "passed        0\n",
       "dtype: int64"
      ]
     },
     "execution_count": 4,
     "metadata": {},
     "output_type": "execute_result"
    }
   ],
   "source": [
    "data.isnull().sum()"
   ]
  },
  {
   "cell_type": "markdown",
   "id": "bdbc802a",
   "metadata": {},
   "source": [
    "##### There are no null values in the data"
   ]
  },
  {
   "cell_type": "code",
   "execution_count": 5,
   "id": "9bfa5f9c",
   "metadata": {},
   "outputs": [
    {
     "data": {
      "text/plain": [
       "<AxesSubplot:>"
      ]
     },
     "execution_count": 5,
     "metadata": {},
     "output_type": "execute_result"
    },
    {
     "data": {
      "image/png": "[encoded data removed]",
      "text/plain": [
       "<Figure size 1440x1440 with 1 Axes>"
      ]
     },
     "metadata": {
      "needs_background": "light"
     },
     "output_type": "display_data"
    }
   ],
   "source": [
    "plt.figure(figsize=(20,20))\n",
    "data.boxplot()"
   ]
  },
  {
   "cell_type": "markdown",
   "id": "219d4d28",
   "metadata": {},
   "source": [
    "##### Though the boxplot shows certain points outside the range of the feature, these cannot be considered as outliers as they may indicate rare or unusual cases"
   ]
  },
  {
   "cell_type": "code",
   "execution_count": 6,
   "id": "947ad91b",
   "metadata": {},
   "outputs": [
    {
     "data": {
      "text/html": [
       "<div>\n",
       "<style scoped>\n",
       "    .dataframe tbody tr th:only-of-type {\n",
       "        vertical-align: middle;\n",
       "    }\n",
       "\n",
       "    .dataframe tbody tr th {\n",
       "        vertical-align: top;\n",
       "    }\n",
       "\n",
       "    .dataframe thead th {\n",
       "        text-align: right;\n",
       "    }\n",
       "</style>\n",
       "<table border=\"1\" class=\"dataframe\">\n",
       "  <thead>\n",
       "    <tr style=\"text-align: right;\">\n",
       "      <th></th>\n",
       "      <th>age</th>\n",
       "      <th>Medu</th>\n",
       "      <th>Fedu</th>\n",
       "      <th>traveltime</th>\n",
       "      <th>studytime</th>\n",
       "      <th>failures</th>\n",
       "      <th>famrel</th>\n",
       "      <th>freetime</th>\n",
       "      <th>goout</th>\n",
       "      <th>Dalc</th>\n",
       "      <th>Walc</th>\n",
       "      <th>health</th>\n",
       "      <th>absences</th>\n",
       "    </tr>\n",
       "  </thead>\n",
       "  <tbody>\n",
       "    <tr>\n",
       "      <th>age</th>\n",
       "      <td>1.000000</td>\n",
       "      <td>-0.163658</td>\n",
       "      <td>-0.163438</td>\n",
       "      <td>0.070641</td>\n",
       "      <td>-0.004140</td>\n",
       "      <td>0.243665</td>\n",
       "      <td>0.053940</td>\n",
       "      <td>0.016434</td>\n",
       "      <td>0.126964</td>\n",
       "      <td>0.131125</td>\n",
       "      <td>0.117276</td>\n",
       "      <td>-0.062187</td>\n",
       "      <td>0.175230</td>\n",
       "    </tr>\n",
       "    <tr>\n",
       "      <th>Medu</th>\n",
       "      <td>-0.163658</td>\n",
       "      <td>1.000000</td>\n",
       "      <td>0.623455</td>\n",
       "      <td>-0.171639</td>\n",
       "      <td>0.064944</td>\n",
       "      <td>-0.236680</td>\n",
       "      <td>-0.003914</td>\n",
       "      <td>0.030891</td>\n",
       "      <td>0.064094</td>\n",
       "      <td>0.019834</td>\n",
       "      <td>-0.047123</td>\n",
       "      <td>-0.046878</td>\n",
       "      <td>0.100285</td>\n",
       "    </tr>\n",
       "    <tr>\n",
       "      <th>Fedu</th>\n",
       "      <td>-0.163438</td>\n",
       "      <td>0.623455</td>\n",
       "      <td>1.000000</td>\n",
       "      <td>-0.158194</td>\n",
       "      <td>-0.009175</td>\n",
       "      <td>-0.250408</td>\n",
       "      <td>-0.001370</td>\n",
       "      <td>-0.012846</td>\n",
       "      <td>0.043105</td>\n",
       "      <td>0.002386</td>\n",
       "      <td>-0.012631</td>\n",
       "      <td>0.014742</td>\n",
       "      <td>0.024473</td>\n",
       "    </tr>\n",
       "    <tr>\n",
       "      <th>traveltime</th>\n",
       "      <td>0.070641</td>\n",
       "      <td>-0.171639</td>\n",
       "      <td>-0.158194</td>\n",
       "      <td>1.000000</td>\n",
       "      <td>-0.100909</td>\n",
       "      <td>0.092239</td>\n",
       "      <td>-0.016808</td>\n",
       "      <td>-0.017025</td>\n",
       "      <td>0.028540</td>\n",
       "      <td>0.138325</td>\n",
       "      <td>0.134116</td>\n",
       "      <td>0.007501</td>\n",
       "      <td>-0.012944</td>\n",
       "    </tr>\n",
       "    <tr>\n",
       "      <th>studytime</th>\n",
       "      <td>-0.004140</td>\n",
       "      <td>0.064944</td>\n",
       "      <td>-0.009175</td>\n",
       "      <td>-0.100909</td>\n",
       "      <td>1.000000</td>\n",
       "      <td>-0.173563</td>\n",
       "      <td>0.039731</td>\n",
       "      <td>-0.143198</td>\n",
       "      <td>-0.063904</td>\n",
       "      <td>-0.196019</td>\n",
       "      <td>-0.253785</td>\n",
       "      <td>-0.075616</td>\n",
       "      <td>-0.062700</td>\n",
       "    </tr>\n",
       "    <tr>\n",
       "      <th>failures</th>\n",
       "      <td>0.243665</td>\n",
       "      <td>-0.236680</td>\n",
       "      <td>-0.250408</td>\n",
       "      <td>0.092239</td>\n",
       "      <td>-0.173563</td>\n",
       "      <td>1.000000</td>\n",
       "      <td>-0.044337</td>\n",
       "      <td>0.091987</td>\n",
       "      <td>0.124561</td>\n",
       "      <td>0.136047</td>\n",
       "      <td>0.141962</td>\n",
       "      <td>0.065827</td>\n",
       "      <td>0.063726</td>\n",
       "    </tr>\n",
       "    <tr>\n",
       "      <th>famrel</th>\n",
       "      <td>0.053940</td>\n",
       "      <td>-0.003914</td>\n",
       "      <td>-0.001370</td>\n",
       "      <td>-0.016808</td>\n",
       "      <td>0.039731</td>\n",
       "      <td>-0.044337</td>\n",
       "      <td>1.000000</td>\n",
       "      <td>0.150701</td>\n",
       "      <td>0.064568</td>\n",
       "      <td>-0.077594</td>\n",
       "      <td>-0.113397</td>\n",
       "      <td>0.094056</td>\n",
       "      <td>-0.044354</td>\n",
       "    </tr>\n",
       "    <tr>\n",
       "      <th>freetime</th>\n",
       "      <td>0.016434</td>\n",
       "      <td>0.030891</td>\n",
       "      <td>-0.012846</td>\n",
       "      <td>-0.017025</td>\n",
       "      <td>-0.143198</td>\n",
       "      <td>0.091987</td>\n",
       "      <td>0.150701</td>\n",
       "      <td>1.000000</td>\n",
       "      <td>0.285019</td>\n",
       "      <td>0.209001</td>\n",
       "      <td>0.147822</td>\n",
       "      <td>0.075733</td>\n",
       "      <td>-0.058078</td>\n",
       "    </tr>\n",
       "    <tr>\n",
       "      <th>goout</th>\n",
       "      <td>0.126964</td>\n",
       "      <td>0.064094</td>\n",
       "      <td>0.043105</td>\n",
       "      <td>0.028540</td>\n",
       "      <td>-0.063904</td>\n",
       "      <td>0.124561</td>\n",
       "      <td>0.064568</td>\n",
       "      <td>0.285019</td>\n",
       "      <td>1.000000</td>\n",
       "      <td>0.266994</td>\n",
       "      <td>0.420386</td>\n",
       "      <td>-0.009577</td>\n",
       "      <td>0.044302</td>\n",
       "    </tr>\n",
       "    <tr>\n",
       "      <th>Dalc</th>\n",
       "      <td>0.131125</td>\n",
       "      <td>0.019834</td>\n",
       "      <td>0.002386</td>\n",
       "      <td>0.138325</td>\n",
       "      <td>-0.196019</td>\n",
       "      <td>0.136047</td>\n",
       "      <td>-0.077594</td>\n",
       "      <td>0.209001</td>\n",
       "      <td>0.266994</td>\n",
       "      <td>1.000000</td>\n",
       "      <td>0.647544</td>\n",
       "      <td>0.077180</td>\n",
       "      <td>0.111908</td>\n",
       "    </tr>\n",
       "    <tr>\n",
       "      <th>Walc</th>\n",
       "      <td>0.117276</td>\n",
       "      <td>-0.047123</td>\n",
       "      <td>-0.012631</td>\n",
       "      <td>0.134116</td>\n",
       "      <td>-0.253785</td>\n",
       "      <td>0.141962</td>\n",
       "      <td>-0.113397</td>\n",
       "      <td>0.147822</td>\n",
       "      <td>0.420386</td>\n",
       "      <td>0.647544</td>\n",
       "      <td>1.000000</td>\n",
       "      <td>0.092476</td>\n",
       "      <td>0.136291</td>\n",
       "    </tr>\n",
       "    <tr>\n",
       "      <th>health</th>\n",
       "      <td>-0.062187</td>\n",
       "      <td>-0.046878</td>\n",
       "      <td>0.014742</td>\n",
       "      <td>0.007501</td>\n",
       "      <td>-0.075616</td>\n",
       "      <td>0.065827</td>\n",
       "      <td>0.094056</td>\n",
       "      <td>0.075733</td>\n",
       "      <td>-0.009577</td>\n",
       "      <td>0.077180</td>\n",
       "      <td>0.092476</td>\n",
       "      <td>1.000000</td>\n",
       "      <td>-0.029937</td>\n",
       "    </tr>\n",
       "    <tr>\n",
       "      <th>absences</th>\n",
       "      <td>0.175230</td>\n",
       "      <td>0.100285</td>\n",
       "      <td>0.024473</td>\n",
       "      <td>-0.012944</td>\n",
       "      <td>-0.062700</td>\n",
       "      <td>0.063726</td>\n",
       "      <td>-0.044354</td>\n",
       "      <td>-0.058078</td>\n",
       "      <td>0.044302</td>\n",
       "      <td>0.111908</td>\n",
       "      <td>0.136291</td>\n",
       "      <td>-0.029937</td>\n",
       "      <td>1.000000</td>\n",
       "    </tr>\n",
       "  </tbody>\n",
       "</table>\n",
       "</div>"
      ],
      "text/plain": [
       "                 age      Medu      Fedu  traveltime  studytime  failures  \\\n",
       "age         1.000000 -0.163658 -0.163438    0.070641  -0.004140  0.243665   \n",
       "Medu       -0.163658  1.000000  0.623455   -0.171639   0.064944 -0.236680   \n",
       "Fedu       -0.163438  0.623455  1.000000   -0.158194  -0.009175 -0.250408   \n",
       "traveltime  0.070641 -0.171639 -0.158194    1.000000  -0.100909  0.092239   \n",
       "studytime  -0.004140  0.064944 -0.009175   -0.100909   1.000000 -0.173563   \n",
       "failures    0.243665 -0.236680 -0.250408    0.092239  -0.173563  1.000000   \n",
       "famrel      0.053940 -0.003914 -0.001370   -0.016808   0.039731 -0.044337   \n",
       "freetime    0.016434  0.030891 -0.012846   -0.017025  -0.143198  0.091987   \n",
       "goout       0.126964  0.064094  0.043105    0.028540  -0.063904  0.124561   \n",
       "Dalc        0.131125  0.019834  0.002386    0.138325  -0.196019  0.136047   \n",
       "Walc        0.117276 -0.047123 -0.012631    0.134116  -0.253785  0.141962   \n",
       "health     -0.062187 -0.046878  0.014742    0.007501  -0.075616  0.065827   \n",
       "absences    0.175230  0.100285  0.024473   -0.012944  -0.062700  0.063726   \n",
       "\n",
       "              famrel  freetime     goout      Dalc      Walc    health  \\\n",
       "age         0.053940  0.016434  0.126964  0.131125  0.117276 -0.062187   \n",
       "Medu       -0.003914  0.030891  0.064094  0.019834 -0.047123 -0.046878   \n",
       "Fedu       -0.001370 -0.012846  0.043105  0.002386 -0.012631  0.014742   \n",
       "traveltime -0.016808 -0.017025  0.028540  0.138325  0.134116  0.007501   \n",
       "studytime   0.039731 -0.143198 -0.063904 -0.196019 -0.253785 -0.075616   \n",
       "failures   -0.044337  0.091987  0.124561  0.136047  0.141962  0.065827   \n",
       "famrel      1.000000  0.150701  0.064568 -0.077594 -0.113397  0.094056   \n",
       "freetime    0.150701  1.000000  0.285019  0.209001  0.147822  0.075733   \n",
       "goout       0.064568  0.285019  1.000000  0.266994  0.420386 -0.009577   \n",
       "Dalc       -0.077594  0.209001  0.266994  1.000000  0.647544  0.077180   \n",
       "Walc       -0.113397  0.147822  0.420386  0.647544  1.000000  0.092476   \n",
       "health      0.094056  0.075733 -0.009577  0.077180  0.092476  1.000000   \n",
       "absences   -0.044354 -0.058078  0.044302  0.111908  0.136291 -0.029937   \n",
       "\n",
       "            absences  \n",
       "age         0.175230  \n",
       "Medu        0.100285  \n",
       "Fedu        0.024473  \n",
       "traveltime -0.012944  \n",
       "studytime  -0.062700  \n",
       "failures    0.063726  \n",
       "famrel     -0.044354  \n",
       "freetime   -0.058078  \n",
       "goout       0.044302  \n",
       "Dalc        0.111908  \n",
       "Walc        0.136291  \n",
       "health     -0.029937  \n",
       "absences    1.000000  "
      ]
     },
     "execution_count": 6,
     "metadata": {},
     "output_type": "execute_result"
    }
   ],
   "source": [
    "data.corr()"
   ]
  },
  {
   "cell_type": "markdown",
   "id": "a7478fca",
   "metadata": {},
   "source": [
    "##### Since the features 'Dalc' and 'Walc' and the features 'Medu' and 'Fedu' are highly correlated one of them can be dropped in order to reduce the number of features"
   ]
  },
  {
   "cell_type": "code",
   "execution_count": 7,
   "id": "fc986015",
   "metadata": {},
   "outputs": [],
   "source": [
    "data.drop(['Walc','Medu'],inplace=True,axis=1)"
   ]
  },
  {
   "cell_type": "code",
   "execution_count": 8,
   "id": "161ebe9a",
   "metadata": {},
   "outputs": [],
   "source": [
    "# Assigning study variables to x and target variable to y\n",
    "x=data.drop('passed',axis=1)\n",
    "y=data['passed']"
   ]
  },
  {
   "cell_type": "code",
   "execution_count": 9,
   "id": "fbc3efe8",
   "metadata": {},
   "outputs": [],
   "source": [
    "# Onehot encoding\n",
    "x=pd.get_dummies(x)"
   ]
  },
  {
   "cell_type": "code",
   "execution_count": 10,
   "id": "e240f65a",
   "metadata": {},
   "outputs": [],
   "source": [
    "# Necessary libraries for building and evaluating model\n",
    "from sklearn.model_selection import train_test_split\n",
    "from sklearn.linear_model import LogisticRegression\n",
    "from sklearn.tree import DecisionTreeClassifier\n",
    "from sklearn.ensemble import RandomForestClassifier\n",
    "from sklearn.neighbors import KNeighborsClassifier\n",
    "from sklearn.metrics import accuracy_score,confusion_matrix,classification_report"
   ]
  },
  {
   "cell_type": "code",
   "execution_count": 11,
   "id": "c183f876",
   "metadata": {},
   "outputs": [],
   "source": [
    "# Splitting given data for training and testing\n",
    "x_train,x_test,y_train,y_test=train_test_split(x,y,test_size=0.2,random_state=123)"
   ]
  },
  {
   "cell_type": "markdown",
   "id": "d45299a7",
   "metadata": {},
   "source": [
    "### Logistic regression"
   ]
  },
  {
   "cell_type": "code",
   "execution_count": 12,
   "id": "ed03bfe9",
   "metadata": {},
   "outputs": [],
   "source": [
    "log_model=LogisticRegression()"
   ]
  },
  {
   "cell_type": "code",
   "execution_count": 13,
   "id": "1cdbc5aa",
   "metadata": {},
   "outputs": [
    {
     "name": "stderr",
     "output_type": "stream",
     "text": [
      "C:\\Users\\sofia\\anaconda3\\lib\\site-packages\\sklearn\\linear_model\\_logistic.py:814: ConvergenceWarning: lbfgs failed to converge (status=1):\n",
      "STOP: TOTAL NO. of ITERATIONS REACHED LIMIT.\n",
      "\n",
      "Increase the number of iterations (max_iter) or scale the data as shown in:\n",
      "    https://scikit-learn.org/stable/modules/preprocessing.html\n",
      "Please also refer to the documentation for alternative solver options:\n",
      "    https://scikit-learn.org/stable/modules/linear_model.html#logistic-regression\n",
      "  n_iter_i = _check_optimize_result(\n"
     ]
    },
    {
     "data": {
      "text/plain": [
       "LogisticRegression()"
      ]
     },
     "execution_count": 13,
     "metadata": {},
     "output_type": "execute_result"
    }
   ],
   "source": [
    "log_model.fit(x_train,y_train)"
   ]
  },
  {
   "cell_type": "code",
   "execution_count": 14,
   "id": "54c38142",
   "metadata": {},
   "outputs": [],
   "source": [
    "log_pred=log_model.predict(x_test)"
   ]
  },
  {
   "cell_type": "code",
   "execution_count": 15,
   "id": "4e2ccf77",
   "metadata": {},
   "outputs": [
    {
     "data": {
      "text/plain": [
       "0.7721518987341772"
      ]
     },
     "execution_count": 15,
     "metadata": {},
     "output_type": "execute_result"
    }
   ],
   "source": [
    "accuracy_score(y_test,log_pred)"
   ]
  },
  {
   "cell_type": "code",
   "execution_count": 16,
   "id": "71c9877b",
   "metadata": {},
   "outputs": [
    {
     "data": {
      "text/plain": [
       "array([[ 9, 13],\n",
       "       [ 5, 52]], dtype=int64)"
      ]
     },
     "execution_count": 16,
     "metadata": {},
     "output_type": "execute_result"
    }
   ],
   "source": [
    "confusion_matrix(y_test,log_pred)"
   ]
  },
  {
   "cell_type": "code",
   "execution_count": 17,
   "id": "6f937994",
   "metadata": {},
   "outputs": [
    {
     "data": {
      "text/plain": [
       "'              precision    recall  f1-score   support\\n\\n          no       0.64      0.41      0.50        22\\n         yes       0.80      0.91      0.85        57\\n\\n    accuracy                           0.77        79\\n   macro avg       0.72      0.66      0.68        79\\nweighted avg       0.76      0.77      0.75        79\\n'"
      ]
     },
     "execution_count": 17,
     "metadata": {},
     "output_type": "execute_result"
    }
   ],
   "source": [
    "classification_report(y_test,log_pred)"
   ]
  },
  {
   "cell_type": "markdown",
   "id": "3809747e",
   "metadata": {},
   "source": [
    "### Decision tree classifier"
   ]
  },
  {
   "cell_type": "code",
   "execution_count": 18,
   "id": "48aa2296",
   "metadata": {},
   "outputs": [],
   "source": [
    "tree_model=DecisionTreeClassifier()"
   ]
  },
  {
   "cell_type": "code",
   "execution_count": 19,
   "id": "d1c2cdef",
   "metadata": {},
   "outputs": [
    {
     "data": {
      "text/plain": [
       "DecisionTreeClassifier()"
      ]
     },
     "execution_count": 19,
     "metadata": {},
     "output_type": "execute_result"
    }
   ],
   "source": [
    "tree_model.fit(x_train,y_train)"
   ]
  },
  {
   "cell_type": "code",
   "execution_count": 20,
   "id": "efc3d95e",
   "metadata": {},
   "outputs": [],
   "source": [
    "tree_pred=tree_model.predict(x_test)"
   ]
  },
  {
   "cell_type": "code",
   "execution_count": 21,
   "id": "5af2f2b7",
   "metadata": {},
   "outputs": [
    {
     "data": {
      "text/plain": [
       "0.6455696202531646"
      ]
     },
     "execution_count": 21,
     "metadata": {},
     "output_type": "execute_result"
    }
   ],
   "source": [
    "accuracy_score(y_test,tree_pred)"
   ]
  },
  {
   "cell_type": "code",
   "execution_count": 22,
   "id": "4fb36ee3",
   "metadata": {},
   "outputs": [
    {
     "data": {
      "text/plain": [
       "array([[10, 12],\n",
       "       [16, 41]], dtype=int64)"
      ]
     },
     "execution_count": 22,
     "metadata": {},
     "output_type": "execute_result"
    }
   ],
   "source": [
    "confusion_matrix(y_test,tree_pred)"
   ]
  },
  {
   "cell_type": "code",
   "execution_count": 23,
   "id": "f7be79ea",
   "metadata": {},
   "outputs": [
    {
     "data": {
      "text/plain": [
       "'              precision    recall  f1-score   support\\n\\n          no       0.38      0.45      0.42        22\\n         yes       0.77      0.72      0.75        57\\n\\n    accuracy                           0.65        79\\n   macro avg       0.58      0.59      0.58        79\\nweighted avg       0.67      0.65      0.65        79\\n'"
      ]
     },
     "execution_count": 23,
     "metadata": {},
     "output_type": "execute_result"
    }
   ],
   "source": [
    "classification_report(y_test,tree_pred)"
   ]
  },
  {
   "cell_type": "markdown",
   "id": "9d1ba13b",
   "metadata": {},
   "source": [
    "### Random forest classifier"
   ]
  },
  {
   "cell_type": "code",
   "execution_count": 24,
   "id": "60b3dd68",
   "metadata": {},
   "outputs": [],
   "source": [
    "rf_model=RandomForestClassifier(n_estimators=200,max_depth=16)"
   ]
  },
  {
   "cell_type": "code",
   "execution_count": 25,
   "id": "21313acb",
   "metadata": {},
   "outputs": [
    {
     "data": {
      "text/plain": [
       "RandomForestClassifier(max_depth=16, n_estimators=200)"
      ]
     },
     "execution_count": 25,
     "metadata": {},
     "output_type": "execute_result"
    }
   ],
   "source": [
    "rf_model.fit(x_train,y_train)"
   ]
  },
  {
   "cell_type": "code",
   "execution_count": 26,
   "id": "96481338",
   "metadata": {},
   "outputs": [],
   "source": [
    "rf_pred=rf_model.predict(x_test)"
   ]
  },
  {
   "cell_type": "code",
   "execution_count": 27,
   "id": "7d4b7bef",
   "metadata": {},
   "outputs": [
    {
     "data": {
      "text/plain": [
       "0.810126582278481"
      ]
     },
     "execution_count": 27,
     "metadata": {},
     "output_type": "execute_result"
    }
   ],
   "source": [
    "accuracy_score(y_test,rf_pred)"
   ]
  },
  {
   "cell_type": "code",
   "execution_count": 28,
   "id": "163cf163",
   "metadata": {},
   "outputs": [
    {
     "data": {
      "text/plain": [
       "array([[ 8, 14],\n",
       "       [ 1, 56]], dtype=int64)"
      ]
     },
     "execution_count": 28,
     "metadata": {},
     "output_type": "execute_result"
    }
   ],
   "source": [
    "confusion_matrix(y_test,rf_pred)"
   ]
  },
  {
   "cell_type": "code",
   "execution_count": 29,
   "id": "7d50a77c",
   "metadata": {},
   "outputs": [
    {
     "data": {
      "text/plain": [
       "'              precision    recall  f1-score   support\\n\\n          no       0.89      0.36      0.52        22\\n         yes       0.80      0.98      0.88        57\\n\\n    accuracy                           0.81        79\\n   macro avg       0.84      0.67      0.70        79\\nweighted avg       0.82      0.81      0.78        79\\n'"
      ]
     },
     "execution_count": 29,
     "metadata": {},
     "output_type": "execute_result"
    }
   ],
   "source": [
    "classification_report(y_test,rf_pred)"
   ]
  },
  {
   "cell_type": "markdown",
   "id": "63e340b0",
   "metadata": {},
   "source": [
    "### KNN"
   ]
  },
  {
   "cell_type": "code",
   "execution_count": 30,
   "id": "a1b6aeb6",
   "metadata": {},
   "outputs": [],
   "source": [
    "knn_model=KNeighborsClassifier(n_neighbors=5)"
   ]
  },
  {
   "cell_type": "code",
   "execution_count": 31,
   "id": "8395dd23",
   "metadata": {},
   "outputs": [
    {
     "data": {
      "text/plain": [
       "KNeighborsClassifier()"
      ]
     },
     "execution_count": 31,
     "metadata": {},
     "output_type": "execute_result"
    }
   ],
   "source": [
    "knn_model.fit(x_train,y_train)"
   ]
  },
  {
   "cell_type": "code",
   "execution_count": 32,
   "id": "7dd17f86",
   "metadata": {},
   "outputs": [],
   "source": [
    "knn_pred=knn_model.predict(x_test)"
   ]
  },
  {
   "cell_type": "code",
   "execution_count": 33,
   "id": "34c0cfc2",
   "metadata": {},
   "outputs": [
    {
     "data": {
      "text/plain": [
       "0.759493670886076"
      ]
     },
     "execution_count": 33,
     "metadata": {},
     "output_type": "execute_result"
    }
   ],
   "source": [
    "accuracy_score(y_test,knn_pred)"
   ]
  },
  {
   "cell_type": "code",
   "execution_count": 34,
   "id": "4980116f",
   "metadata": {},
   "outputs": [
    {
     "data": {
      "text/plain": [
       "array([[ 7, 15],\n",
       "       [ 4, 53]], dtype=int64)"
      ]
     },
     "execution_count": 34,
     "metadata": {},
     "output_type": "execute_result"
    }
   ],
   "source": [
    "confusion_matrix(y_test,knn_pred)"
   ]
  },
  {
   "cell_type": "code",
   "execution_count": 35,
   "id": "7b9638b5",
   "metadata": {},
   "outputs": [
    {
     "data": {
      "text/plain": [
       "'              precision    recall  f1-score   support\\n\\n          no       0.64      0.32      0.42        22\\n         yes       0.78      0.93      0.85        57\\n\\n    accuracy                           0.76        79\\n   macro avg       0.71      0.62      0.64        79\\nweighted avg       0.74      0.76      0.73        79\\n'"
      ]
     },
     "execution_count": 35,
     "metadata": {},
     "output_type": "execute_result"
    }
   ],
   "source": [
    "classification_report(y_test,knn_pred)"
   ]
  },
  {
   "cell_type": "markdown",
   "id": "f2b662e8",
   "metadata": {},
   "source": [
    "##### It can be observed that random forest classifier gives the best accuracy of 81% compared to the other classification models like logistic regression, decision tree and k-nearest neighbours."
   ]
  }
 ],
 "metadata": {
  "kernelspec": {
   "display_name": "Python 3 (ipykernel)",
   "language": "python",
   "name": "python3"
  },
  "language_info": {
   "codemirror_mode": {
    "name": "ipython",
    "version": 3
   },
   "file_extension": ".py",
   "mimetype": "text/x-python",
   "name": "python",
   "nbconvert_exporter": "python",
   "pygments_lexer": "ipython3",
   "version": "3.9.12"
  }
 },
 "nbformat": 4,
 "nbformat_minor": 5
}
